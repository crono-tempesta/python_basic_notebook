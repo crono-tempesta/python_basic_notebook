{
 "cells": [
  {
   "cell_type": "markdown",
   "id": "bf1a6d64",
   "metadata": {},
   "source": [
    "### 1. 출력함수(print)\n",
    "print() 함수\n",
    "- ()안의 값을 출력해주는 함수\n",
    "- 변수 값을 확인하는 용도로도 사용"
   ]
  },
  {
   "cell_type": "code",
   "execution_count": 5,
   "id": "e0568b73",
   "metadata": {},
   "outputs": [
    {
     "name": "stdout",
     "output_type": "stream",
     "text": [
      "Hello Python\n",
      "Hello Python\n",
      "25\n",
      "3.14\n",
      "True\n"
     ]
    }
   ],
   "source": [
    "print(\"Hello Python\")\n",
    "print('Hello Python')\n",
    "print(25)\n",
    "print(3.14)\n",
    "print(True)"
   ]
  },
  {
   "cell_type": "markdown",
   "id": "4a55886d",
   "metadata": {},
   "source": [
    "#### 참고. Escape 코드\n",
    "- 문자열 내의 일부 문자의 의미를 달리하여 특정한 효과를 주는 것 \n",
    "- \\n : 한 줄 개행\n",
    "- \\t : 탭(8칸 공백)"
   ]
  },
  {
   "cell_type": "code",
   "execution_count": 6,
   "id": "cde85d90",
   "metadata": {},
   "outputs": [
    {
     "name": "stdout",
     "output_type": "stream",
     "text": [
      "Hello \n",
      " Python\n",
      "Hello \t Python\n"
     ]
    }
   ],
   "source": [
    "print(\"Hello \\n Python\")\n",
    "print(\"Hello \\t Python\")"
   ]
  },
  {
   "cell_type": "markdown",
   "id": "ef505dc4",
   "metadata": {},
   "source": [
    "소수점 출력 하기\n",
    "- {0:3d} : 0번째, 3글자, d(정수)\n",
    "- {1:3.2f} : 1번째, 3글자, 소수점 2자리, f(실수)"
   ]
  },
  {
   "cell_type": "code",
   "execution_count": 11,
   "id": "2aac123e",
   "metadata": {},
   "outputs": [
    {
     "name": "stdout",
     "output_type": "stream",
     "text": [
      "이름: 이유민, 학점 : 4.5\n",
      "Test1 : 369, Test2 : 623.46\n"
     ]
    }
   ],
   "source": [
    "print(\"이름: {}, 학점 : {}\".format(\"이유민\",4.5))\n",
    "print(\"Test1 : {0:3d}, Test2 : {1:3.2f}\".format(369, 623.4567))"
   ]
  },
  {
   "cell_type": "markdown",
   "id": "9649a3c4",
   "metadata": {},
   "source": [
    "### 2.  주석(comment)\n",
    "- 코드에서 #으로 시작하는 뒷 부분을 실행하지 않음\n",
    "- python 소스코드 실행시 #은 무시하고 실행\n",
    "- 개발자(사람)가 보기 위한 용도로 사용\n",
    "- 개발시 주석을 잘 활용하는 사람이 좋은 개발자"
   ]
  },
  {
   "cell_type": "code",
   "execution_count": 13,
   "id": "746eda2f",
   "metadata": {},
   "outputs": [
    {
     "name": "stdout",
     "output_type": "stream",
     "text": [
      "233007\n"
     ]
    }
   ],
   "source": [
    "student_num = \"233007\"  # 학번\n",
    "\n",
    "# 학번 출력\n",
    "print(student_num)"
   ]
  },
  {
   "cell_type": "markdown",
   "id": "01e7d0d7",
   "metadata": {},
   "source": [
    "### 3. 자료형(Type)\n",
    "1. 문자열(String) : \"Hello\", 'hi'\n",
    "2. 정수형 숫자(int) : 3, 0, -1\n",
    "3. 실수형 숫자(float) : 3.1, 0.0, -2.2\n",
    "4. 논리형(boolean) : True, False\n",
    "\n",
    "- type() 함수를 사용해서 자료형 확인 가능"
   ]
  },
  {
   "cell_type": "code",
   "execution_count": 17,
   "id": "bd0b77ee",
   "metadata": {},
   "outputs": [
    {
     "name": "stdout",
     "output_type": "stream",
     "text": [
      "<class 'float'>\n",
      "<class 'str'>\n"
     ]
    }
   ],
   "source": [
    "print(type(3.14))\n",
    "print(type(\"Hi\"))"
   ]
  },
  {
   "cell_type": "markdown",
   "id": "1d440fae",
   "metadata": {},
   "source": [
    "형변환(Type Casting)\n",
    "\n",
    "- 형변환을 사용하면 자료형을원하는 type으로 변환 가능\n",
    "\n",
    "1. int(): ()안에 값을 정수형 변환\n",
    "2. float(): ()안에 값을 실수형 변환\n",
    "3. str(): ()안에 값을 문자열형 변환"
   ]
  },
  {
   "cell_type": "code",
   "execution_count": 23,
   "id": "21f14335",
   "metadata": {},
   "outputs": [
    {
     "name": "stdout",
     "output_type": "stream",
     "text": [
      "3\n",
      "3.0\n",
      "3\n",
      "3.14\n",
      "3.0\n"
     ]
    }
   ],
   "source": [
    "# int(\"Hello\")  (x)\n",
    "# float(\"Hi\")  (x)\n",
    "\n",
    "# 실수형 → 정수형  (o)\n",
    "a = 3.14\n",
    "print(int(a))\n",
    "\n",
    "# 정수형 → 실수형 (o)\n",
    "b = 3\n",
    "print(float(b))\n",
    "\n",
    "# 문자열 정수형 → 정수형  (o)\n",
    "c = \"3\"  # String\n",
    "print(int(c))\n",
    "\n",
    "# 문자열 실수형 → 실수형  (o)\n",
    "d = \"3.14\"\n",
    "print(float(d))\n",
    "\n",
    "# 문자열 실수형 → 정수형  (x)\n",
    "# print(int(d))\n",
    "\n",
    "# 문자열 정수형 → 실수형  (o)\n",
    "print(float(c))"
   ]
  }
 ],
 "metadata": {
  "kernelspec": {
   "display_name": "Python 3 (ipykernel)",
   "language": "python",
   "name": "python3"
  },
  "language_info": {
   "codemirror_mode": {
    "name": "ipython",
    "version": 3
   },
   "file_extension": ".py",
   "mimetype": "text/x-python",
   "name": "python",
   "nbconvert_exporter": "python",
   "pygments_lexer": "ipython3",
   "version": "3.9.13"
  }
 },
 "nbformat": 4,
 "nbformat_minor": 5
}
