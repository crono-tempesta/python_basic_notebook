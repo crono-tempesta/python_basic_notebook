{
 "cells": [
  {
   "cell_type": "markdown",
   "id": "ad8e37c5",
   "metadata": {},
   "source": [
    "## 1.문자열(string)\n",
    "- 복수개의 문자를 순서대로 나열한 것\n",
    "- 문자열은 '' 또는 \"\"사이에 문자를 넣어서 생성 \n",
    "- 문자열 자체에 '' 또는 \"\"이 있는 경우 각각 그 반대로 사용"
   ]
  },
  {
   "cell_type": "code",
   "execution_count": 2,
   "id": "fa2fd6e1",
   "metadata": {
    "scrolled": true
   },
   "outputs": [
    {
     "name": "stdout",
     "output_type": "stream",
     "text": [
      "챗봇 : \"만나서 반갑습니다.\"\n"
     ]
    }
   ],
   "source": [
    "print('챗봇 : \"만나서 반갑습니다.\"')"
   ]
  },
  {
   "cell_type": "code",
   "execution_count": 5,
   "id": "68bccfdd",
   "metadata": {},
   "outputs": [
    {
     "name": "stdout",
     "output_type": "stream",
     "text": [
      "Hi\n",
      "Hi\n",
      "\n",
      "    Hi\n",
      "    hello\n",
      "    \n",
      "\n",
      "    HI\n",
      "    \n"
     ]
    }
   ],
   "source": [
    "print('Hi')  # 한 줄 출력\n",
    "print(\"Hi\")  # 한 줄 출력\n",
    "print('''\n",
    "    Hi\n",
    "    hello\n",
    "    ''')\n",
    "print(\"\"\"\n",
    "    HI\n",
    "    \"\"\")"
   ]
  },
  {
   "cell_type": "markdown",
   "id": "87a3ea07",
   "metadata": {},
   "source": [
    "## 2. 문자열 인덱스(index)\n",
    "- 문자열의 각 문자는 순서(인덱스)가 있음\n",
    "- 첫번째 문자부터 마지막문자까지 순차적으로 인덱스를 가짐\n",
    "- 인덱스의 시작은 0번 부터 시작\n",
    "- 인덱스는 공백 포함"
   ]
  },
  {
   "cell_type": "markdown",
   "id": "38a74483",
   "metadata": {},
   "source": [
    "### 문자 추출\n",
    "- 인덱스번호를 통해서 문자 추출 가능\n",
    "- 인덱스 범위를 벗어나면 error 발생\n",
    "\n",
    "> 변수형.[인덱스번호]. → name.[3]."
   ]
  },
  {
   "cell_type": "code",
   "execution_count": 8,
   "id": "f14f34dd",
   "metadata": {},
   "outputs": [
    {
     "name": "stdout",
     "output_type": "stream",
     "text": [
      "o\n"
     ]
    }
   ],
   "source": [
    "# 문자열 길이 : 12\n",
    "# 이덱스 범위: 0~11\n",
    "msg = \"Hello Python\"\n",
    "print(msg[4])"
   ]
  },
  {
   "cell_type": "markdown",
   "id": "ac85d1aa",
   "metadata": {},
   "source": [
    "### reverse index(-1)"
   ]
  },
  {
   "cell_type": "code",
   "execution_count": 9,
   "id": "e8628146",
   "metadata": {
    "scrolled": true
   },
   "outputs": [
    {
     "name": "stdout",
     "output_type": "stream",
     "text": [
      "n\n",
      "h\n"
     ]
    }
   ],
   "source": [
    "msg = \"Hello Python\"\n",
    "\n",
    "print(msg[-1])\n",
    "print(msg[-3])"
   ]
  },
  {
   "cell_type": "markdown",
   "id": "770d8622",
   "metadata": {},
   "source": [
    "## 3. 문자열 슬라이싱\n",
    "- a[3]은 인덱스를 통해 문자 하나만 추출 가능\n",
    "- 부부 문자열을 추출하고 싶은 경우 슬라이싱 사용\n",
    "- 시작 인덱스 번호가 생략되면 0으로 설정\n",
    "- 끝 인덱스 번호가 생략되면 -1으로 설정\n",
    "\n",
    "> 변수형[시작:끝] → name[3:5] 3~4(끝 인덱스 -1)"
   ]
  },
  {
   "cell_type": "code",
   "execution_count": 15,
   "id": "d0508b5c",
   "metadata": {},
   "outputs": [
    {
     "name": "stdout",
     "output_type": "stream",
     "text": [
      "P\n",
      "Python\n",
      "Python\n",
      " is all you need\n",
      "Python is all you need\n"
     ]
    }
   ],
   "source": [
    "comment = \"Python is all you need\"\n",
    "\n",
    "print(comment[0])\n",
    "print(comment[0:6])  # 0 ~ 5\n",
    "print(comment[:6])   # 0 ~ 5\n",
    "print(comment[6:])   # 6 ~ 끝\n",
    "print(comment[:])    # 처음 ~ 끝"
   ]
  },
  {
   "cell_type": "code",
   "execution_count": 27,
   "id": "bbb6cbd8",
   "metadata": {
    "scrolled": true
   },
   "outputs": [
    {
     "name": "stdout",
     "output_type": "stream",
     "text": [
      "need\n",
      "need\n"
     ]
    }
   ],
   "source": [
    "# need 만 추출\n",
    "comment = \"Python is all you need\"\n",
    "print(comment[18:])\n",
    "print(comment[-4:])"
   ]
  },
  {
   "cell_type": "markdown",
   "id": "c3426d59",
   "metadata": {},
   "source": [
    "## 4. 문자열 멤버 함수"
   ]
  },
  {
   "cell_type": "code",
   "execution_count": null,
   "id": "cf508f37",
   "metadata": {},
   "outputs": [],
   "source": [
    "str = \"Hello World\""
   ]
  },
  {
   "cell_type": "code",
   "execution_count": 32,
   "id": "b9a5fb7c",
   "metadata": {},
   "outputs": [
    {
     "name": "stdout",
     "output_type": "stream",
     "text": [
      "11\n"
     ]
    }
   ],
   "source": [
    "# len() : 문자열 길이를 계산\n",
    "str = \"Hello World\"\n",
    "print(len(str))"
   ]
  },
  {
   "cell_type": "code",
   "execution_count": 31,
   "id": "29aebbd8",
   "metadata": {
    "scrolled": false
   },
   "outputs": [
    {
     "name": "stdout",
     "output_type": "stream",
     "text": [
      "HELLO WORLD\n",
      "hello world\n"
     ]
    }
   ],
   "source": [
    "# uper() and lower() : 대문자 또는 소문자로 변경\n",
    "str = \"Hello World\"\n",
    "print(str.upper())\n",
    "print(str.lower())"
   ]
  },
  {
   "cell_type": "code",
   "execution_count": 36,
   "id": "4ac922c1",
   "metadata": {},
   "outputs": [
    {
     "data": {
      "text/plain": [
       "'Hellz Wzrld'"
      ]
     },
     "execution_count": 36,
     "metadata": {},
     "output_type": "execute_result"
    }
   ],
   "source": [
    "#replace() : 문자열 내의 특정 문자 치환\n",
    "str = \"Hello World\"\n",
    "str.replace(\"o\",\"z\")  # 복수개 치환"
   ]
  },
  {
   "cell_type": "code",
   "execution_count": 38,
   "id": "6e811b16",
   "metadata": {},
   "outputs": [
    {
     "name": "stdout",
     "output_type": "stream",
     "text": [
      "['Hello ', 'orld ', 'hat a nice ', 'eather']\n",
      "['Hello', 'world', 'what', 'a', 'nice', 'weather']\n"
     ]
    }
   ],
   "source": [
    "# split() : 구분자를 기준으로 문자열 분활, default 구분자 공백\n",
    "a = \"Hello world what a nice weather\"\n",
    "print(a.split(\"w\"))\n",
    "print(a.split())"
   ]
  },
  {
   "cell_type": "code",
   "execution_count": 4,
   "id": "174f7303",
   "metadata": {
    "scrolled": true
   },
   "outputs": [
    {
     "name": "stdout",
     "output_type": "stream",
     "text": [
      "아이디:        dldblas100      , 길이: 23\n",
      "아이디: dldblas100, 길이: 10\n"
     ]
    }
   ],
   "source": [
    "# strip() : 문자열의 좌우공백을 제거\n",
    "id = \"       dldblas100      \"\n",
    "print(f\"아이디: {id}, 길이: {len(id)}\")\n",
    "print(f\"아이디: {id.strip()}, 길이: {len(id.strip())}\")"
   ]
  },
  {
   "cell_type": "code",
   "execution_count": 11,
   "id": "df9800f3",
   "metadata": {},
   "outputs": [
    {
     "name": "stdout",
     "output_type": "stream",
     "text": [
      "2\n",
      "3\n",
      "6\n",
      "6\n"
     ]
    }
   ],
   "source": [
    "# find() and rfind()\n",
    "# - 문자열 내부의 특정 문자의 인덱스를 출력\n",
    "str = \"Hello Python\"\n",
    "print(str.find(\"l\"))  # .은 참조 연산자 \n",
    "print(str.rfind(\"l\"))\n",
    "print(str.find(\"Python\"))\n",
    "print(str.rfind(\"Python\"))"
   ]
  },
  {
   "cell_type": "code",
   "execution_count": 12,
   "id": "9d5817b7",
   "metadata": {},
   "outputs": [
    {
     "name": "stdout",
     "output_type": "stream",
     "text": [
      "True\n",
      "False\n"
     ]
    }
   ],
   "source": [
    "# in() : 특정 문자열을 포함하고 있는지 확인(True, False)\n",
    "\n",
    "print(\"Hi\" in \"Hi Python\")\n",
    "print(\"Hi\" in \"Hello Python\")\n"
   ]
  }
 ],
 "metadata": {
  "kernelspec": {
   "display_name": "Python 3 (ipykernel)",
   "language": "python",
   "name": "python3"
  },
  "language_info": {
   "codemirror_mode": {
    "name": "ipython",
    "version": 3
   },
   "file_extension": ".py",
   "mimetype": "text/x-python",
   "name": "python",
   "nbconvert_exporter": "python",
   "pygments_lexer": "ipython3",
   "version": "3.9.13"
  }
 },
 "nbformat": 4,
 "nbformat_minor": 5
}
